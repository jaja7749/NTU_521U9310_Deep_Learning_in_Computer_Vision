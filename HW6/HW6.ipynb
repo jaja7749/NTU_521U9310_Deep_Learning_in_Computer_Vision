{
 "cells": [
  {
   "cell_type": "markdown",
   "metadata": {
    "id": "Cnz37uBd7H3X"
   },
   "source": [
    "## Homework 06: due 2024/06/10 23:59(100%)\n",
    "\n",
    "### - There are differences between every OpenCV version, please make sure the opencv version is above 4.4 to avoid the bugs.  \n",
    "\n",
    "### - Tutorial : \n",
    "1. Panorama tutorial : https://datahacker.rs/005-how-to-create-a-panorama-image-using-opencv-with-python/\n",
    "2. cv2.Sticher document: https://docs.opencv.org/4.4.0/d2/d8d/classcv_1_1Stitcher.html\n",
    "3. cv2.Sticher tutorial: https://docs.opencv.org/4.4.0/d5/d48/samples_2python_2stitching_8py-example.html\n",
    "\n",
    "                   \n",
    "### - After you go through the tutorials, you should be able to work on this assignment.\n",
    "\n",
    "### - Please answer the following questions and work directly on this jupyter notebook.\n",
    "\n",
    "### - Make sure the code can be run and show the result and figures properly.\n",
    "\n",
    "### - Please write down your observation with markdown in this notebook briefly."
   ]
  },
  {
   "cell_type": "code",
   "execution_count": 1,
   "metadata": {
    "id": "PBI6sVuPtPLd"
   },
   "outputs": [],
   "source": [
    "import cv2\n",
    "import numpy as np\n",
    "import matplotlib.pyplot as plt\n",
    "import os\n",
    "import glob"
   ]
  },
  {
   "cell_type": "markdown",
   "metadata": {
    "id": "Ve-xGK9P0pmn"
   },
   "source": [
    "### 1. Feature Matching (30%)\n",
    "#### Please use __SIFT__ as detector and descriptor to find the correponding feature points in __./Data/01.jpg__ and __./Data/02.jpg__. Also, please apply Lowe's ratio test with appropriate ratio and draw the matching feature points as the figure below.\n",
    "##### (example figure)\n",
    "![Imgur](https://imgur.com/uv6qrHc.jpg)"
   ]
  },
  {
   "cell_type": "code",
   "execution_count": null,
   "metadata": {},
   "outputs": [],
   "source": []
  },
  {
   "cell_type": "markdown",
   "metadata": {
    "id": "TGNhbtVk3cJ2"
   },
   "source": [
    "### 2. Homography and stitching. (40%)\n",
    "#### 2.1 Please calculate the homography matrix with the point correspondences that detect from the first part. Also, warp the images and stitch image 01.jpg and 02.jpg together. (cv2.Sticher is not allowed in this part) (20%)\n",
    "##### (Example figure)\n",
    "![Imgur](https://imgur.com/U2epbTY.jpg)"
   ]
  },
  {
   "cell_type": "code",
   "execution_count": null,
   "metadata": {},
   "outputs": [],
   "source": []
  },
  {
   "cell_type": "markdown",
   "metadata": {
    "id": "9yJrxxWr8jCs"
   },
   "source": [
    "#### 2.2 Please read the tutorials and the documentations of __cv2.Stitcher__ to stitch all the seven images. (20%) \n",
    "![Imgur](https://imgur.com/drUvu38.jpg)"
   ]
  },
  {
   "cell_type": "code",
   "execution_count": null,
   "metadata": {},
   "outputs": [],
   "source": []
  },
  {
   "cell_type": "markdown",
   "metadata": {},
   "source": [
    "### 3. Build your own panorama. (30%)\n",
    "\n",
    "Please take some pictures on your own and follow the steps above to build your own panorama, and write down your observation."
   ]
  },
  {
   "cell_type": "code",
   "execution_count": null,
   "metadata": {},
   "outputs": [],
   "source": []
  }
 ],
 "metadata": {
  "colab": {
   "authorship_tag": "ABX9TyNZuMUzx0y/t8EEEWRBTCs1",
   "collapsed_sections": [],
   "name": "HW6_solution.ipynb",
   "provenance": []
  },
  "kernelspec": {
   "display_name": "Python 3 (ipykernel)",
   "language": "python",
   "name": "python3"
  },
  "language_info": {
   "codemirror_mode": {
    "name": "ipython",
    "version": 3
   },
   "file_extension": ".py",
   "mimetype": "text/x-python",
   "name": "python",
   "nbconvert_exporter": "python",
   "pygments_lexer": "ipython3",
   "version": "3.10.9"
  }
 },
 "nbformat": 4,
 "nbformat_minor": 4
}
